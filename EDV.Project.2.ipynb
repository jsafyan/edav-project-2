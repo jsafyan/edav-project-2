{
 "cells": [
  {
   "cell_type": "code",
   "execution_count": 2,
   "metadata": {
    "collapsed": false
   },
   "outputs": [],
   "source": [
    "# Forked from Josh\n",
    "\n",
    "import matplotlib.pyplot as plt\n",
    "from mpl_toolkits.basemap import Basemap\n",
    "from netCDF4 import Dataset\n",
    "import numpy as np\n",
    "from sklearn.decomposition import PCA\n",
    "from sklearn.preprocessing import scale\n",
    "import pylab\n"
   ]
  },
  {
   "cell_type": "code",
   "execution_count": 3,
   "metadata": {
    "collapsed": false
   },
   "outputs": [],
   "source": [
    "nc_file = 'Geospatial_Height.nc'\n",
    "file = Dataset(nc_file, mode='r')"
   ]
  },
  {
   "cell_type": "code",
   "execution_count": 4,
   "metadata": {
    "collapsed": false
   },
   "outputs": [],
   "source": [
    "lons = file.variables['X'][:]\n",
    "lats = file.variables['Y'][:]\n",
    "pressure = file.variables['P'][:]\n",
    "time = file.variables['T'][:]\n",
    "height = file.variables['phi'][:]"
   ]
  },
  {
   "cell_type": "code",
   "execution_count": 5,
   "metadata": {
    "collapsed": true
   },
   "outputs": [],
   "source": [
    "file.close()"
   ]
  },
  {
   "cell_type": "code",
   "execution_count": 6,
   "metadata": {
    "collapsed": false
   },
   "outputs": [],
   "source": [
    "data = height.reshape(24886, 4464).astype(np.float64)"
   ]
  },
  {
   "cell_type": "code",
   "execution_count": 7,
   "metadata": {
    "collapsed": false
   },
   "outputs": [
    {
     "data": {
      "text/plain": [
       "array([[ 5146.,  5145.,  5143., ...,  5829.,  5829.,  5830.],\n",
       "       [ 5103.,  5105.,  5107., ...,  5834.,  5834.,  5836.],\n",
       "       [ 5067.,  5068.,  5067., ...,  5840.,  5839.,  5839.],\n",
       "       ..., \n",
       "       [ 5210.,  5210.,  5209., ...,  5883.,  5885.,  5886.],\n",
       "       [ 5138.,  5149.,  5161., ...,  5886.,  5888.,  5888.],\n",
       "       [ 5139.,  5155.,  5172., ...,  5887.,  5888.,  5889.]])"
      ]
     },
     "execution_count": 7,
     "metadata": {},
     "output_type": "execute_result"
    }
   ],
   "source": [
    "data"
   ]
  },
  {
   "cell_type": "code",
   "execution_count": 8,
   "metadata": {
    "collapsed": true
   },
   "outputs": [],
   "source": [
    "# http://scikit-learn.org/stable/modules/generated/sklearn.preprocessing.scale.html\n",
    "# Center to the mean and component wise scale to unit variance.\n",
    "scaled_data = scale(data)"
   ]
  },
  {
   "cell_type": "code",
   "execution_count": 9,
   "metadata": {
    "collapsed": true
   },
   "outputs": [],
   "source": [
    "# http://scikit-learn.org/stable/modules/generated/sklearn.decomposition.PCA.html\n",
    "pca = PCA(n_components=10)\n",
    "pca.fit(scaled_data)\n",
    "\n",
    "# transform\n",
    "data_reduced = np.dot(scaled_data, pca.components_.T)\n",
    "# inverse_transform\n",
    "data_original = np.dot(data_reduced, pca.components_)"
   ]
  },
  {
   "cell_type": "code",
   "execution_count": 10,
   "metadata": {
    "collapsed": false
   },
   "outputs": [
    {
     "name": "stdout",
     "output_type": "stream",
     "text": [
      "(24886L, 4464L)\n"
     ]
    }
   ],
   "source": [
    "print np.shape(data_original)"
   ]
  },
  {
   "cell_type": "code",
   "execution_count": 11,
   "metadata": {
    "collapsed": false
   },
   "outputs": [
    {
     "data": {
      "text/plain": [
       "array([ 0.44734135,  0.14372132,  0.03143608,  0.02327541,  0.02048559,\n",
       "        0.01685406,  0.01567907,  0.01401042,  0.01340728,  0.01317348])"
      ]
     },
     "execution_count": 11,
     "metadata": {},
     "output_type": "execute_result"
    }
   ],
   "source": [
    "pca.explained_variance_ratio_"
   ]
  },
  {
   "cell_type": "code",
   "execution_count": 12,
   "metadata": {
    "collapsed": false
   },
   "outputs": [
    {
     "name": "stdout",
     "output_type": "stream",
     "text": [
      "The first 10 components explain 73.9384065597% of the variance\n"
     ]
    }
   ],
   "source": [
    "n_components = len(pca.explained_variance_ratio_)\n",
    "total_variance = sum(pca.explained_variance_ratio_)\n",
    "print(\"The first {0} components explain {1}% of the variance\".format(n_components, total_variance * 100))"
   ]
  },
  {
   "cell_type": "code",
   "execution_count": null,
   "metadata": {
    "collapsed": true
   },
   "outputs": [],
   "source": []
  },
  {
   "cell_type": "code",
   "execution_count": 13,
   "metadata": {
    "collapsed": false
   },
   "outputs": [
    {
     "data": {
      "text/plain": [
       "array([[ 0.01655331,  0.01649645,  0.01645068, ...,  0.0091155 ,\n",
       "         0.00905843,  0.00902507],\n",
       "       [ 0.00428184,  0.00440805,  0.0045381 , ..., -0.0304706 ,\n",
       "        -0.03054783, -0.03064186],\n",
       "       [ 0.0107967 ,  0.01024009,  0.00972206, ...,  0.01433512,\n",
       "         0.01424309,  0.01390165],\n",
       "       ..., \n",
       "       [ 0.00923061,  0.00824647,  0.00709655, ..., -0.00413104,\n",
       "        -0.00334936, -0.00267937],\n",
       "       [-0.01219722, -0.01188298, -0.01157935, ...,  0.01477611,\n",
       "         0.01514039,  0.01543892],\n",
       "       [ 0.01783526,  0.0186562 ,  0.0194143 , ...,  0.01723133,\n",
       "         0.01736719,  0.01744784]])"
      ]
     },
     "execution_count": 13,
     "metadata": {},
     "output_type": "execute_result"
    }
   ],
   "source": [
    "# These are eigenvectors!\n",
    "pca.components_"
   ]
  },
  {
   "cell_type": "code",
   "execution_count": 14,
   "metadata": {
    "collapsed": false
   },
   "outputs": [
    {
     "data": {
      "text/plain": [
       "(24886L, 10L)"
      ]
     },
     "execution_count": 14,
     "metadata": {},
     "output_type": "execute_result"
    }
   ],
   "source": [
    "# Each day has been reduced to have only 10 values\n",
    "data_reduced.shape"
   ]
  },
  {
   "cell_type": "code",
   "execution_count": 15,
   "metadata": {
    "collapsed": true
   },
   "outputs": [],
   "source": [
    "# recover the original shape of the data\n",
    "recovered_data = data_original.reshape(24886, 1, 31, 144)"
   ]
  },
  {
   "cell_type": "code",
   "execution_count": 16,
   "metadata": {
    "collapsed": false
   },
   "outputs": [
    {
     "data": {
      "text/plain": [
       "(31L, 144L)"
      ]
     },
     "execution_count": 16,
     "metadata": {},
     "output_type": "execute_result"
    }
   ],
   "source": [
    "# for example, this is January 1, 1948 as reconstructed by the 10 principal components\n",
    "recovered_data[0, 0].shape"
   ]
  },
  {
   "cell_type": "code",
   "execution_count": 17,
   "metadata": {
    "collapsed": true
   },
   "outputs": [],
   "source": [
    "# Let's plot some stuff\n",
    "m = Basemap(projection='robin', lat_0=0, lon_0=-100,\n",
    "              resolution='l', area_thresh=1000.0)\n",
    "\n",
    "# Because our lon and lat variables are 1D, \n",
    "# use meshgrid to create 2D arrays \n",
    "# Not necessary if coordinates are already in 2D arrays.\n",
    "lon, lat = np.meshgrid(lons, lats)\n",
    "xi, yi = m(lon, lat)"
   ]
  },
  {
   "cell_type": "code",
   "execution_count": 18,
   "metadata": {
    "collapsed": true
   },
   "outputs": [],
   "source": [
    "def plot_day(data, day):\n",
    "    \"\"\"\n",
    "    Creates a plot of the world with colorcoded data\n",
    "    \"\"\"\n",
    "    plt.figure(figsize=(15,12))\n",
    "    # Plot Data\n",
    "    cs = m.pcolor(xi,yi,data[day, 0])\n",
    "\n",
    "    # Add Grid Lines\n",
    "    m.drawparallels(np.arange(-80., 81., 10.), labels=[1,0,0,0], fontsize=10)\n",
    "    m.drawmeridians(np.arange(-180., 181., 10.), fontsize=10)\n",
    "\n",
    "    # Add Coastlines, States, and Country Boundaries\n",
    "    m.drawcoastlines()\n",
    "    m.drawstates()\n",
    "    m.drawcountries()\n",
    "    # Shaded relief adds the nice global color\n",
    "    m.shadedrelief()\n",
    "\n",
    "    # Add Colorbar\n",
    "    cbar = m.colorbar(cs, location='bottom', pad=\"10%\")\n",
    "\n",
    "    # Add Title\n",
    "    plt.title(\"Reconstructed Geopotential Height {} Days Since 1-1-1948\".format(day))"
   ]
  },
  {
   "cell_type": "code",
   "execution_count": 21,
   "metadata": {
    "collapsed": false
   },
   "outputs": [],
   "source": [
    "# This can be slow the first time you all it\n",
    "# plot_day(recovered_data, 23675)\n",
    "plotdata = data.reshape(24886, 1, 31, 144)\n",
    "plot_day(plotdata, 23673)"
   ]
  },
  {
   "cell_type": "code",
   "execution_count": 22,
   "metadata": {
    "collapsed": false
   },
   "outputs": [],
   "source": [
    "pylab.show()"
   ]
  },
  {
   "cell_type": "code",
   "execution_count": 57,
   "metadata": {
    "collapsed": false
   },
   "outputs": [
    {
     "name": "stdout",
     "output_type": "stream",
     "text": [
      "(804L,)\n"
     ]
    }
   ],
   "source": [
    "# PCA data for only NJ \n",
    "# 16 corresponds to latitude 40 and 102 corresponds to longitude 74.5\n",
    "# Since the precipiations is available at monthly level - we will take one value of PCA every 30 days - total of 816 months so pick 1 day every 30 days\n",
    "\n",
    "PCA_list = []\n",
    "for i in range(804):\n",
    "    PCA_list.append(np.float(recovered_data[0+i*30,:,16,102]))\n",
    "    \n",
    "print np.shape(PCA_list)\n",
    "                    "
   ]
  },
  {
   "cell_type": "code",
   "execution_count": 65,
   "metadata": {
    "collapsed": false
   },
   "outputs": [
    {
     "name": "stdout",
     "output_type": "stream",
     "text": [
      "(804L,)\n"
     ]
    }
   ],
   "source": [
    "from numpy import genfromtxt\n",
    "# http://climate.rutgers.edu/stateclim_v1/data/njhistprecip.html\n",
    "my_data = genfromtxt('New Jersey Flood Data.csv', delimiter=',')\n",
    "\n",
    "rain_list = []\n",
    "for i in range(67):\n",
    "    for j in range(12):\n",
    "        rain_list.append(my_data.item(i,j))\n",
    "        \n",
    "print np.shape(rain_list)"
   ]
  },
  {
   "cell_type": "code",
   "execution_count": 91,
   "metadata": {
    "collapsed": false
   },
   "outputs": [
    {
     "name": "stdout",
     "output_type": "stream",
     "text": [
      " 0.0238990174006 3.87791278063 0.0110185283191 0.755076561996 0.0765848567072\n"
     ]
    }
   ],
   "source": [
    "from pylab import *\n",
    "import matplotlib.pyplot as plt\n",
    "import scipy\n",
    "slope, intercept, r_value, p_value, std_err = scipy.stats.linregress(PCA_list, rain_list)\n",
    "\n",
    "plot = plt.scatter(PCA_list,rain_list)\n",
    "plt.title(\"Rainfall v. PC1 in New Jersey\")\n",
    "plt.xlabel('PC1')\n",
    "plt.ylabel('Rainfall (inches)')\n",
    "# plt.show()\n",
    "\n",
    "print slope, intercept, r_value, p_value, std_err"
   ]
  }
 ],
 "metadata": {
  "kernelspec": {
   "display_name": "Python 2",
   "language": "python",
   "name": "python2"
  },
  "language_info": {
   "codemirror_mode": {
    "name": "ipython",
    "version": 2
   },
   "file_extension": ".py",
   "mimetype": "text/x-python",
   "name": "python",
   "nbconvert_exporter": "python",
   "pygments_lexer": "ipython2",
   "version": "2.7.10"
  }
 },
 "nbformat": 4,
 "nbformat_minor": 0
}
